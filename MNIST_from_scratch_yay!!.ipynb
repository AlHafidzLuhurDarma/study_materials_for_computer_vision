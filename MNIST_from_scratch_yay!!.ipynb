{
  "nbformat": 4,
  "nbformat_minor": 0,
  "metadata": {
    "colab": {
      "provenance": []
    },
    "kernelspec": {
      "name": "python3",
      "display_name": "Python 3"
    },
    "language_info": {
      "name": "python"
    }
  },
  "cells": [
    {
      "cell_type": "code",
      "source": [
        "from google.colab import drive\n",
        "drive.mount('/content/drive')"
      ],
      "metadata": {
        "colab": {
          "base_uri": "https://localhost:8080/"
        },
        "id": "5g6rkAzwDd_Q",
        "outputId": "17a106a6-5bbc-4a21-ae03-1e907c86d78b"
      },
      "execution_count": null,
      "outputs": [
        {
          "output_type": "stream",
          "name": "stdout",
          "text": [
            "Mounted at /content/drive\n"
          ]
        }
      ]
    },
    {
      "cell_type": "code",
      "source": [
        "# import dependencies\n",
        "import numpy as np\n",
        "import pandas as pd"
      ],
      "metadata": {
        "id": "BBfwrbPBDuAs"
      },
      "execution_count": null,
      "outputs": []
    },
    {
      "cell_type": "code",
      "source": [
        "data = pd.read_csv(\"/content/drive/MyDrive/mnist_train.csv\")"
      ],
      "metadata": {
        "id": "w0zjfi3wD47k"
      },
      "execution_count": null,
      "outputs": []
    },
    {
      "cell_type": "code",
      "source": [
        "data[0:5]"
      ],
      "metadata": {
        "colab": {
          "base_uri": "https://localhost:8080/",
          "height": 235
        },
        "id": "KG7xumEdEBCx",
        "outputId": "50b21b63-860e-4dc1-fa6d-68e6882dd3f7"
      },
      "execution_count": null,
      "outputs": [
        {
          "output_type": "execute_result",
          "data": {
            "text/plain": [
              "   label  1x1  1x2  1x3  1x4  1x5  1x6  1x7  1x8  1x9  ...  28x19  28x20  \\\n",
              "0      5    0    0    0    0    0    0    0    0    0  ...      0      0   \n",
              "1      0    0    0    0    0    0    0    0    0    0  ...      0      0   \n",
              "2      4    0    0    0    0    0    0    0    0    0  ...      0      0   \n",
              "3      1    0    0    0    0    0    0    0    0    0  ...      0      0   \n",
              "4      9    0    0    0    0    0    0    0    0    0  ...      0      0   \n",
              "\n",
              "   28x21  28x22  28x23  28x24  28x25  28x26  28x27  28x28  \n",
              "0      0      0      0      0      0      0      0      0  \n",
              "1      0      0      0      0      0      0      0      0  \n",
              "2      0      0      0      0      0      0      0      0  \n",
              "3      0      0      0      0      0      0      0      0  \n",
              "4      0      0      0      0      0      0      0      0  \n",
              "\n",
              "[5 rows x 785 columns]"
            ],
            "text/html": [
              "\n",
              "  <div id=\"df-e2f25f6b-ec50-46da-b560-573af49b3a30\" class=\"colab-df-container\">\n",
              "    <div>\n",
              "<style scoped>\n",
              "    .dataframe tbody tr th:only-of-type {\n",
              "        vertical-align: middle;\n",
              "    }\n",
              "\n",
              "    .dataframe tbody tr th {\n",
              "        vertical-align: top;\n",
              "    }\n",
              "\n",
              "    .dataframe thead th {\n",
              "        text-align: right;\n",
              "    }\n",
              "</style>\n",
              "<table border=\"1\" class=\"dataframe\">\n",
              "  <thead>\n",
              "    <tr style=\"text-align: right;\">\n",
              "      <th></th>\n",
              "      <th>label</th>\n",
              "      <th>1x1</th>\n",
              "      <th>1x2</th>\n",
              "      <th>1x3</th>\n",
              "      <th>1x4</th>\n",
              "      <th>1x5</th>\n",
              "      <th>1x6</th>\n",
              "      <th>1x7</th>\n",
              "      <th>1x8</th>\n",
              "      <th>1x9</th>\n",
              "      <th>...</th>\n",
              "      <th>28x19</th>\n",
              "      <th>28x20</th>\n",
              "      <th>28x21</th>\n",
              "      <th>28x22</th>\n",
              "      <th>28x23</th>\n",
              "      <th>28x24</th>\n",
              "      <th>28x25</th>\n",
              "      <th>28x26</th>\n",
              "      <th>28x27</th>\n",
              "      <th>28x28</th>\n",
              "    </tr>\n",
              "  </thead>\n",
              "  <tbody>\n",
              "    <tr>\n",
              "      <th>0</th>\n",
              "      <td>5</td>\n",
              "      <td>0</td>\n",
              "      <td>0</td>\n",
              "      <td>0</td>\n",
              "      <td>0</td>\n",
              "      <td>0</td>\n",
              "      <td>0</td>\n",
              "      <td>0</td>\n",
              "      <td>0</td>\n",
              "      <td>0</td>\n",
              "      <td>...</td>\n",
              "      <td>0</td>\n",
              "      <td>0</td>\n",
              "      <td>0</td>\n",
              "      <td>0</td>\n",
              "      <td>0</td>\n",
              "      <td>0</td>\n",
              "      <td>0</td>\n",
              "      <td>0</td>\n",
              "      <td>0</td>\n",
              "      <td>0</td>\n",
              "    </tr>\n",
              "    <tr>\n",
              "      <th>1</th>\n",
              "      <td>0</td>\n",
              "      <td>0</td>\n",
              "      <td>0</td>\n",
              "      <td>0</td>\n",
              "      <td>0</td>\n",
              "      <td>0</td>\n",
              "      <td>0</td>\n",
              "      <td>0</td>\n",
              "      <td>0</td>\n",
              "      <td>0</td>\n",
              "      <td>...</td>\n",
              "      <td>0</td>\n",
              "      <td>0</td>\n",
              "      <td>0</td>\n",
              "      <td>0</td>\n",
              "      <td>0</td>\n",
              "      <td>0</td>\n",
              "      <td>0</td>\n",
              "      <td>0</td>\n",
              "      <td>0</td>\n",
              "      <td>0</td>\n",
              "    </tr>\n",
              "    <tr>\n",
              "      <th>2</th>\n",
              "      <td>4</td>\n",
              "      <td>0</td>\n",
              "      <td>0</td>\n",
              "      <td>0</td>\n",
              "      <td>0</td>\n",
              "      <td>0</td>\n",
              "      <td>0</td>\n",
              "      <td>0</td>\n",
              "      <td>0</td>\n",
              "      <td>0</td>\n",
              "      <td>...</td>\n",
              "      <td>0</td>\n",
              "      <td>0</td>\n",
              "      <td>0</td>\n",
              "      <td>0</td>\n",
              "      <td>0</td>\n",
              "      <td>0</td>\n",
              "      <td>0</td>\n",
              "      <td>0</td>\n",
              "      <td>0</td>\n",
              "      <td>0</td>\n",
              "    </tr>\n",
              "    <tr>\n",
              "      <th>3</th>\n",
              "      <td>1</td>\n",
              "      <td>0</td>\n",
              "      <td>0</td>\n",
              "      <td>0</td>\n",
              "      <td>0</td>\n",
              "      <td>0</td>\n",
              "      <td>0</td>\n",
              "      <td>0</td>\n",
              "      <td>0</td>\n",
              "      <td>0</td>\n",
              "      <td>...</td>\n",
              "      <td>0</td>\n",
              "      <td>0</td>\n",
              "      <td>0</td>\n",
              "      <td>0</td>\n",
              "      <td>0</td>\n",
              "      <td>0</td>\n",
              "      <td>0</td>\n",
              "      <td>0</td>\n",
              "      <td>0</td>\n",
              "      <td>0</td>\n",
              "    </tr>\n",
              "    <tr>\n",
              "      <th>4</th>\n",
              "      <td>9</td>\n",
              "      <td>0</td>\n",
              "      <td>0</td>\n",
              "      <td>0</td>\n",
              "      <td>0</td>\n",
              "      <td>0</td>\n",
              "      <td>0</td>\n",
              "      <td>0</td>\n",
              "      <td>0</td>\n",
              "      <td>0</td>\n",
              "      <td>...</td>\n",
              "      <td>0</td>\n",
              "      <td>0</td>\n",
              "      <td>0</td>\n",
              "      <td>0</td>\n",
              "      <td>0</td>\n",
              "      <td>0</td>\n",
              "      <td>0</td>\n",
              "      <td>0</td>\n",
              "      <td>0</td>\n",
              "      <td>0</td>\n",
              "    </tr>\n",
              "  </tbody>\n",
              "</table>\n",
              "<p>5 rows × 785 columns</p>\n",
              "</div>\n",
              "    <div class=\"colab-df-buttons\">\n",
              "\n",
              "  <div class=\"colab-df-container\">\n",
              "    <button class=\"colab-df-convert\" onclick=\"convertToInteractive('df-e2f25f6b-ec50-46da-b560-573af49b3a30')\"\n",
              "            title=\"Convert this dataframe to an interactive table.\"\n",
              "            style=\"display:none;\">\n",
              "\n",
              "  <svg xmlns=\"http://www.w3.org/2000/svg\" height=\"24px\" viewBox=\"0 -960 960 960\">\n",
              "    <path d=\"M120-120v-720h720v720H120Zm60-500h600v-160H180v160Zm220 220h160v-160H400v160Zm0 220h160v-160H400v160ZM180-400h160v-160H180v160Zm440 0h160v-160H620v160ZM180-180h160v-160H180v160Zm440 0h160v-160H620v160Z\"/>\n",
              "  </svg>\n",
              "    </button>\n",
              "\n",
              "  <style>\n",
              "    .colab-df-container {\n",
              "      display:flex;\n",
              "      gap: 12px;\n",
              "    }\n",
              "\n",
              "    .colab-df-convert {\n",
              "      background-color: #E8F0FE;\n",
              "      border: none;\n",
              "      border-radius: 50%;\n",
              "      cursor: pointer;\n",
              "      display: none;\n",
              "      fill: #1967D2;\n",
              "      height: 32px;\n",
              "      padding: 0 0 0 0;\n",
              "      width: 32px;\n",
              "    }\n",
              "\n",
              "    .colab-df-convert:hover {\n",
              "      background-color: #E2EBFA;\n",
              "      box-shadow: 0px 1px 2px rgba(60, 64, 67, 0.3), 0px 1px 3px 1px rgba(60, 64, 67, 0.15);\n",
              "      fill: #174EA6;\n",
              "    }\n",
              "\n",
              "    .colab-df-buttons div {\n",
              "      margin-bottom: 4px;\n",
              "    }\n",
              "\n",
              "    [theme=dark] .colab-df-convert {\n",
              "      background-color: #3B4455;\n",
              "      fill: #D2E3FC;\n",
              "    }\n",
              "\n",
              "    [theme=dark] .colab-df-convert:hover {\n",
              "      background-color: #434B5C;\n",
              "      box-shadow: 0px 1px 3px 1px rgba(0, 0, 0, 0.15);\n",
              "      filter: drop-shadow(0px 1px 2px rgba(0, 0, 0, 0.3));\n",
              "      fill: #FFFFFF;\n",
              "    }\n",
              "  </style>\n",
              "\n",
              "    <script>\n",
              "      const buttonEl =\n",
              "        document.querySelector('#df-e2f25f6b-ec50-46da-b560-573af49b3a30 button.colab-df-convert');\n",
              "      buttonEl.style.display =\n",
              "        google.colab.kernel.accessAllowed ? 'block' : 'none';\n",
              "\n",
              "      async function convertToInteractive(key) {\n",
              "        const element = document.querySelector('#df-e2f25f6b-ec50-46da-b560-573af49b3a30');\n",
              "        const dataTable =\n",
              "          await google.colab.kernel.invokeFunction('convertToInteractive',\n",
              "                                                    [key], {});\n",
              "        if (!dataTable) return;\n",
              "\n",
              "        const docLinkHtml = 'Like what you see? Visit the ' +\n",
              "          '<a target=\"_blank\" href=https://colab.research.google.com/notebooks/data_table.ipynb>data table notebook</a>'\n",
              "          + ' to learn more about interactive tables.';\n",
              "        element.innerHTML = '';\n",
              "        dataTable['output_type'] = 'display_data';\n",
              "        await google.colab.output.renderOutput(dataTable, element);\n",
              "        const docLink = document.createElement('div');\n",
              "        docLink.innerHTML = docLinkHtml;\n",
              "        element.appendChild(docLink);\n",
              "      }\n",
              "    </script>\n",
              "  </div>\n",
              "\n",
              "\n",
              "<div id=\"df-f5881e95-e700-4be6-a388-ee100e7ae54d\">\n",
              "  <button class=\"colab-df-quickchart\" onclick=\"quickchart('df-f5881e95-e700-4be6-a388-ee100e7ae54d')\"\n",
              "            title=\"Suggest charts\"\n",
              "            style=\"display:none;\">\n",
              "\n",
              "<svg xmlns=\"http://www.w3.org/2000/svg\" height=\"24px\"viewBox=\"0 0 24 24\"\n",
              "     width=\"24px\">\n",
              "    <g>\n",
              "        <path d=\"M19 3H5c-1.1 0-2 .9-2 2v14c0 1.1.9 2 2 2h14c1.1 0 2-.9 2-2V5c0-1.1-.9-2-2-2zM9 17H7v-7h2v7zm4 0h-2V7h2v10zm4 0h-2v-4h2v4z\"/>\n",
              "    </g>\n",
              "</svg>\n",
              "  </button>\n",
              "\n",
              "<style>\n",
              "  .colab-df-quickchart {\n",
              "      --bg-color: #E8F0FE;\n",
              "      --fill-color: #1967D2;\n",
              "      --hover-bg-color: #E2EBFA;\n",
              "      --hover-fill-color: #174EA6;\n",
              "      --disabled-fill-color: #AAA;\n",
              "      --disabled-bg-color: #DDD;\n",
              "  }\n",
              "\n",
              "  [theme=dark] .colab-df-quickchart {\n",
              "      --bg-color: #3B4455;\n",
              "      --fill-color: #D2E3FC;\n",
              "      --hover-bg-color: #434B5C;\n",
              "      --hover-fill-color: #FFFFFF;\n",
              "      --disabled-bg-color: #3B4455;\n",
              "      --disabled-fill-color: #666;\n",
              "  }\n",
              "\n",
              "  .colab-df-quickchart {\n",
              "    background-color: var(--bg-color);\n",
              "    border: none;\n",
              "    border-radius: 50%;\n",
              "    cursor: pointer;\n",
              "    display: none;\n",
              "    fill: var(--fill-color);\n",
              "    height: 32px;\n",
              "    padding: 0;\n",
              "    width: 32px;\n",
              "  }\n",
              "\n",
              "  .colab-df-quickchart:hover {\n",
              "    background-color: var(--hover-bg-color);\n",
              "    box-shadow: 0 1px 2px rgba(60, 64, 67, 0.3), 0 1px 3px 1px rgba(60, 64, 67, 0.15);\n",
              "    fill: var(--button-hover-fill-color);\n",
              "  }\n",
              "\n",
              "  .colab-df-quickchart-complete:disabled,\n",
              "  .colab-df-quickchart-complete:disabled:hover {\n",
              "    background-color: var(--disabled-bg-color);\n",
              "    fill: var(--disabled-fill-color);\n",
              "    box-shadow: none;\n",
              "  }\n",
              "\n",
              "  .colab-df-spinner {\n",
              "    border: 2px solid var(--fill-color);\n",
              "    border-color: transparent;\n",
              "    border-bottom-color: var(--fill-color);\n",
              "    animation:\n",
              "      spin 1s steps(1) infinite;\n",
              "  }\n",
              "\n",
              "  @keyframes spin {\n",
              "    0% {\n",
              "      border-color: transparent;\n",
              "      border-bottom-color: var(--fill-color);\n",
              "      border-left-color: var(--fill-color);\n",
              "    }\n",
              "    20% {\n",
              "      border-color: transparent;\n",
              "      border-left-color: var(--fill-color);\n",
              "      border-top-color: var(--fill-color);\n",
              "    }\n",
              "    30% {\n",
              "      border-color: transparent;\n",
              "      border-left-color: var(--fill-color);\n",
              "      border-top-color: var(--fill-color);\n",
              "      border-right-color: var(--fill-color);\n",
              "    }\n",
              "    40% {\n",
              "      border-color: transparent;\n",
              "      border-right-color: var(--fill-color);\n",
              "      border-top-color: var(--fill-color);\n",
              "    }\n",
              "    60% {\n",
              "      border-color: transparent;\n",
              "      border-right-color: var(--fill-color);\n",
              "    }\n",
              "    80% {\n",
              "      border-color: transparent;\n",
              "      border-right-color: var(--fill-color);\n",
              "      border-bottom-color: var(--fill-color);\n",
              "    }\n",
              "    90% {\n",
              "      border-color: transparent;\n",
              "      border-bottom-color: var(--fill-color);\n",
              "    }\n",
              "  }\n",
              "</style>\n",
              "\n",
              "  <script>\n",
              "    async function quickchart(key) {\n",
              "      const quickchartButtonEl =\n",
              "        document.querySelector('#' + key + ' button');\n",
              "      quickchartButtonEl.disabled = true;  // To prevent multiple clicks.\n",
              "      quickchartButtonEl.classList.add('colab-df-spinner');\n",
              "      try {\n",
              "        const charts = await google.colab.kernel.invokeFunction(\n",
              "            'suggestCharts', [key], {});\n",
              "      } catch (error) {\n",
              "        console.error('Error during call to suggestCharts:', error);\n",
              "      }\n",
              "      quickchartButtonEl.classList.remove('colab-df-spinner');\n",
              "      quickchartButtonEl.classList.add('colab-df-quickchart-complete');\n",
              "    }\n",
              "    (() => {\n",
              "      let quickchartButtonEl =\n",
              "        document.querySelector('#df-f5881e95-e700-4be6-a388-ee100e7ae54d button');\n",
              "      quickchartButtonEl.style.display =\n",
              "        google.colab.kernel.accessAllowed ? 'block' : 'none';\n",
              "    })();\n",
              "  </script>\n",
              "</div>\n",
              "\n",
              "    </div>\n",
              "  </div>\n"
            ],
            "application/vnd.google.colaboratory.intrinsic+json": {
              "type": "dataframe"
            }
          },
          "metadata": {},
          "execution_count": 4
        }
      ]
    },
    {
      "cell_type": "code",
      "source": [
        "data = np.array(data)\n",
        "data.shape"
      ],
      "metadata": {
        "colab": {
          "base_uri": "https://localhost:8080/"
        },
        "id": "SytQ1GJsEP94",
        "outputId": "20f00a1b-3e36-444b-c5e7-6fd45bc5d491"
      },
      "execution_count": null,
      "outputs": [
        {
          "output_type": "execute_result",
          "data": {
            "text/plain": [
              "(60000, 785)"
            ]
          },
          "metadata": {},
          "execution_count": 5
        }
      ]
    },
    {
      "cell_type": "code",
      "source": [
        "m, n = data.shape"
      ],
      "metadata": {
        "id": "bwshbebREZkZ"
      },
      "execution_count": null,
      "outputs": []
    },
    {
      "cell_type": "code",
      "source": [
        "np.max(data)"
      ],
      "metadata": {
        "colab": {
          "base_uri": "https://localhost:8080/"
        },
        "id": "UDeKk_mNFAJx",
        "outputId": "82482ae9-803a-4ac0-d8bd-7165e51a3f0f"
      },
      "execution_count": null,
      "outputs": [
        {
          "output_type": "execute_result",
          "data": {
            "text/plain": [
              "255"
            ]
          },
          "metadata": {},
          "execution_count": 7
        }
      ]
    },
    {
      "cell_type": "markdown",
      "source": [
        "## Train data"
      ],
      "metadata": {
        "id": "foarvSuCMlqe"
      }
    },
    {
      "cell_type": "code",
      "source": [
        "# train and dev\n",
        "data_dev = data[0:1000].T  # the 1st 1000 data\n",
        "Y_dev = data_dev[0]  # take the label data\n",
        "X_dev = data[1:n]   # take the pixel data\n",
        "X_dev = X_dev / 255  # making the data from 0 - 1 instead of 0 - 255\n",
        "\n",
        "data_train = data[1000:m].T  # 1000 until 60000 data\n",
        "Y_train = data_train[0] # take the label data\n",
        "X_train = data_train[1:n]  # take the pixel data\n",
        "X_train = X_train/255 # normalize the data"
      ],
      "metadata": {
        "id": "IRu-tjX6Er-Z"
      },
      "execution_count": null,
      "outputs": []
    },
    {
      "cell_type": "code",
      "source": [
        "X_train.shape"
      ],
      "metadata": {
        "colab": {
          "base_uri": "https://localhost:8080/"
        },
        "id": "LbvrVZ-CIhnI",
        "outputId": "ecef6c5c-c3de-4af2-d709-423e52c14537"
      },
      "execution_count": null,
      "outputs": [
        {
          "output_type": "execute_result",
          "data": {
            "text/plain": [
              "(784, 59000)"
            ]
          },
          "metadata": {},
          "execution_count": 9
        }
      ]
    },
    {
      "cell_type": "markdown",
      "source": [
        "## One-hot Label data"
      ],
      "metadata": {
        "id": "nHA8MVWLMpWW"
      }
    },
    {
      "cell_type": "code",
      "source": [
        "one_hot_label = np.zeros((Y_train.size, Y_train.max() + 1))\n",
        "one_hot_label[np.arange(Y_train.size), Y_train] = 1\n",
        "one_hot_label = one_hot_label.T"
      ],
      "metadata": {
        "id": "cnHZAvcdMkom"
      },
      "execution_count": null,
      "outputs": []
    },
    {
      "cell_type": "markdown",
      "source": [
        "# Neural net"
      ],
      "metadata": {
        "id": "kNFgLAf7G9VJ"
      }
    },
    {
      "cell_type": "code",
      "source": [
        "#Initialize the parameters\n",
        "\n",
        "# 1st hidden layer  --> 10 neuron\n",
        "W1 = np.random.randn(10, n - 1)  # amount of neuron and input data, n amount is pixel + label\n",
        "b1 = np.random.randn(10, 1)\n",
        "# 2nd hidden layer (output)  -- > 10 (because we have 10 labels of category data)\n",
        "W2 = np.random.randn(10, 10) # amount of neuron and output amount of the previous layer (1st layer)\n",
        "b2 = np.random.randn(10, 1)\n",
        "\n",
        "# np.random.randn() -- a random value between -0.5 to 0.5"
      ],
      "metadata": {
        "id": "Et7EWU_zHDmY"
      },
      "execution_count": null,
      "outputs": []
    },
    {
      "cell_type": "code",
      "source": [
        "# Activation function\n",
        "\n",
        "def Sigmoid(Z):\n",
        "  A = 1 / (1 + np.exp(-Z))\n",
        "  return A\n",
        "\n",
        "def tanh(Z):\n",
        "  A = np.tanh(Z)\n",
        "  return A\n",
        "\n",
        "def ReLu(Z):\n",
        "  A = np.maximum(0, Z)\n",
        "  return A\n",
        "\n",
        "def Softmax(Z):\n",
        "  A = np.exp(Z) / np.sum(np.exp(Z))\n",
        "  return A"
      ],
      "metadata": {
        "id": "DspssusKI_6g"
      },
      "execution_count": null,
      "outputs": []
    },
    {
      "cell_type": "markdown",
      "source": [
        "# Forward propagation"
      ],
      "metadata": {
        "id": "iyEyVETPNpRn"
      }
    },
    {
      "cell_type": "code",
      "source": [
        "# forward pass\n",
        "\n",
        "# 1st hidden layer\n",
        "Z1 = np.dot(W1, X_train) + b1  # linear function value\n",
        "A1 = ReLu(Z1)  # non-linear function\n",
        "\n",
        "# 2nd hidden layer\n",
        "Z2 = np.dot(W2, A1) + b2 # linear function value for the 2nd hidden layer\n",
        "A2 = Softmax(Z2) # probability distribution"
      ],
      "metadata": {
        "id": "r2PDQfPVIGHI"
      },
      "execution_count": null,
      "outputs": []
    },
    {
      "cell_type": "code",
      "source": [
        "A2.shape # the prediction"
      ],
      "metadata": {
        "colab": {
          "base_uri": "https://localhost:8080/"
        },
        "id": "rcecFEmtKPbI",
        "outputId": "47c16384-c795-481f-c6ee-f78aeb0e1ba0"
      },
      "execution_count": null,
      "outputs": [
        {
          "output_type": "execute_result",
          "data": {
            "text/plain": [
              "(10, 59000)"
            ]
          },
          "metadata": {},
          "execution_count": 14
        }
      ]
    },
    {
      "cell_type": "code",
      "source": [
        "# y^ for the prediction and y is for the true label"
      ],
      "metadata": {
        "id": "TPULKHpHDUuZ"
      },
      "execution_count": null,
      "outputs": []
    },
    {
      "cell_type": "code",
      "source": [
        "# Loss value\n",
        "log_loss = -np.sum(one_hot_label * np.log(A2)) / (m - 1)"
      ],
      "metadata": {
        "id": "qZDaJAjNMXfj"
      },
      "execution_count": null,
      "outputs": []
    },
    {
      "cell_type": "markdown",
      "source": [
        "## Backpropagation"
      ],
      "metadata": {
        "id": "n0HNPW4rNtbu"
      }
    },
    {
      "cell_type": "code",
      "source": [
        "dZ2 = A2 - one_hot_label # derivatives of Loss with respect of Z2\n",
        "\n",
        "# How much the value of Z2 effecting the loss value, whatever the differences values between the prediction (A2, propbability distribution) and the True label(Y_train, one_hot_label)"
      ],
      "metadata": {
        "id": "CE6S-wuZNv_O"
      },
      "execution_count": null,
      "outputs": []
    },
    {
      "cell_type": "code",
      "source": [
        "dW2 = 1 / m * np.dot(dZ2, A1.T) # how much dZ2 -- > Loss got effected by the value of Z2\n",
        "db2 = 1 / m * np.sum(dZ2)  # how much bias value efffecting the loss, we need to know how much bias value effecting the Z2"
      ],
      "metadata": {
        "id": "oLjyk3L5DfEQ"
      },
      "execution_count": null,
      "outputs": []
    },
    {
      "cell_type": "code",
      "source": [
        "# How much A1 effecting the value of Z1\n",
        "\n",
        "def deriv_Relu(Z):\n",
        "  return Z > 0     # if Z is greater than 0 == True, and if Z is less than 0 if False, if we convert Boolean into Integers 0 = False, and 1 = True"
      ],
      "metadata": {
        "id": "oXDcAAx2E4uJ"
      },
      "execution_count": null,
      "outputs": []
    },
    {
      "cell_type": "code",
      "source": [
        "dZ1 = np.dot(W2, dZ2) * deriv_Relu(Z1) # How much Z1 effecting the value of the loss"
      ],
      "metadata": {
        "id": "oVbHvnV2EjAh"
      },
      "execution_count": null,
      "outputs": []
    },
    {
      "cell_type": "code",
      "source": [
        "dW1 = 1 / m * np.dot(dZ1, X_train.T) # how much W1 value effecting the loss value\n",
        "db1 = 1 / m * np.sum(dZ1) # how much the b1 value effecting the loss value"
      ],
      "metadata": {
        "id": "alHrSSDtGwiu"
      },
      "execution_count": null,
      "outputs": []
    },
    {
      "cell_type": "markdown",
      "source": [
        "Now we get how much all of the learnable parameters (W1, b1, W2, b2) effecting the loss value"
      ],
      "metadata": {
        "id": "WAW7OfyoHWLY"
      }
    },
    {
      "cell_type": "markdown",
      "source": [
        "## Upadate the learnable parameters"
      ],
      "metadata": {
        "id": "KG-6BjFMHiQB"
      }
    },
    {
      "cell_type": "code",
      "source": [
        "learning_rate = 0.1  # how much faster our neural net learn, but the bigger value also means the less accurate to the global minimum\n",
        "\n",
        "W1 = W1 - learning_rate * dW1\n",
        "b1 = b1 - learning_rate * db1\n",
        "W2 = W2 - learning_rate * dW2\n",
        "b2 = b2 - learning_rate * db2\n",
        "\n",
        "# the new parameters = the previous parameters subtracted by how much we can learn based on how much the previous parameters effecting the loss value"
      ],
      "metadata": {
        "id": "8xe8mRE1Hlhl"
      },
      "execution_count": null,
      "outputs": []
    },
    {
      "cell_type": "markdown",
      "source": [
        "# Demo of Gradient descent"
      ],
      "metadata": {
        "id": "vbEskNI1Lgiu"
      }
    },
    {
      "cell_type": "code",
      "source": [
        "# Initialize weight and bias\n",
        "W1 = np.random.randn(10, n - 1)\n",
        "b1 = np.random.randn(10, 1)\n",
        "W2 = np.random.randn(10, 10)\n",
        "b2 = np.random.randn(10, 1)"
      ],
      "metadata": {
        "id": "VlSRdJHvOcMu"
      },
      "execution_count": null,
      "outputs": []
    },
    {
      "cell_type": "code",
      "source": [
        "## Make it clean\n",
        "# forward prop\n",
        "Z1 = np.dot(W1, X_train) + b1\n",
        "A1 = np.maximum(Z1, 0)  # ReLu\n",
        "Z2 = np.dot(W2, A1) + b2\n",
        "\n",
        "# probability distribution\n",
        "A2 = np.exp(Z2) / sum(np.exp(Z2))"
      ],
      "metadata": {
        "id": "u3Q3MTfuOL1-"
      },
      "execution_count": null,
      "outputs": []
    },
    {
      "cell_type": "code",
      "source": [
        "loss = np.sum(np.square(one_hot_label - A2)) / m\n",
        "dZ2 = A2 - one_hot_label\n",
        "print(loss)"
      ],
      "metadata": {
        "colab": {
          "base_uri": "https://localhost:8080/"
        },
        "id": "HQEJiLiJONGQ",
        "outputId": "79a93cde-0bb5-4cb9-d7d7-712165b304b0"
      },
      "execution_count": null,
      "outputs": [
        {
          "output_type": "stream",
          "name": "stdout",
          "text": [
            "1.656755573496776\n"
          ]
        }
      ]
    },
    {
      "cell_type": "code",
      "source": [
        "dW2 = 1 / m * np.dot(dZ2, A1.T)\n",
        "db2 = 1 / m * np.sum(dZ2)\n",
        "relu_deriv = Z1 > 0\n",
        "dZ1 = np.dot(W2, dZ2) * relu_deriv\n",
        "dW1 = 1 / m * np.dot(dZ1, X_train.T)\n",
        "db1 = 1 / m * np.sum(dZ1)"
      ],
      "metadata": {
        "id": "0mTRpW3fOOS9"
      },
      "execution_count": null,
      "outputs": []
    },
    {
      "cell_type": "code",
      "source": [
        "W1 = W1 - 0.1 * dW1\n",
        "b1 = b1 - 0.1 * db1\n",
        "W2 = W2 - 0.1 * dW2\n",
        "b2 = b2 - 0.1 * db2"
      ],
      "metadata": {
        "id": "YPMR7QAFOQ3L"
      },
      "execution_count": null,
      "outputs": []
    },
    {
      "cell_type": "markdown",
      "source": [
        "# Neural Net"
      ],
      "metadata": {
        "id": "9i9MJ6P6Rc3E"
      }
    },
    {
      "cell_type": "code",
      "source": [
        "#let's put it all together\n",
        "\n",
        "W1 = np.random.randn(10, n - 1)\n",
        "b1 = np.random.randn(10, 1)\n",
        "W2 = np.random.randn(10, 10)\n",
        "b2 = np.random.randn(10, 1)\n",
        "\n",
        "learing_rate = 0.1\n",
        "\n",
        "iteration = 30\n",
        "for i in range(iteration):\n",
        "  # forward prop\n",
        "  Z1 = np.dot(W1, X_train) + b1\n",
        "  A1 = np.maximum(Z1, 0)\n",
        "  Z2 = np.dot(W2, A1) + b2\n",
        "  A2 = np.exp(Z2) / sum(np.exp(Z2))\n",
        "\n",
        "  # loss\n",
        "  loss = np.sum(np.square(one_hot_label -  A2)) / m\n",
        "  print(loss)\n",
        "\n",
        "  # backprop\n",
        "  dZ2 = A2 - one_hot_label\n",
        "  dW2 = 1 / m * np.dot(dZ2, A1.T)\n",
        "  dB2 = 1 / m * np.sum(dZ2)\n",
        "  relu_deriv = Z1 > 0\n",
        "  dZ1 = np.dot(W2, dZ2) * relu_deriv\n",
        "  dW1 = 1 / m * np.dot(dZ1, X_train.T)\n",
        "  dB1 = 1 / m * np.sum(dZ1)\n",
        "\n",
        "  # update the parameters\n",
        "  W1 = W1 - learning_rate * dW1\n",
        "  b1 = b1 - learning_rate * dB1\n",
        "  W2 = W2 - learning_rate * dW2\n",
        "  b2 = b2 - learning_rate * dB2"
      ],
      "metadata": {
        "colab": {
          "base_uri": "https://localhost:8080/"
        },
        "id": "9PjWFCFkPEmO",
        "outputId": "bbbc611c-329a-4001-b551-a291a4da0ff6"
      },
      "execution_count": null,
      "outputs": [
        {
          "output_type": "stream",
          "name": "stdout",
          "text": [
            "1.6825702429929252\n",
            "1.6030984221730855\n",
            "1.5622828298774343\n",
            "1.5228648854801161\n",
            "1.4900220816599483\n",
            "1.4715950465935013\n",
            "1.4504727662675845\n",
            "1.4347647334388531\n",
            "1.4142833677594002\n",
            "1.3891667499535074\n",
            "1.364808381646143\n",
            "1.3422687900601007\n",
            "1.3214251798070695\n",
            "1.3016946517556527\n",
            "1.2828581328904087\n",
            "1.2645729954192644\n",
            "1.2466432834764687\n",
            "1.2290523922329533\n",
            "1.2117817306724195\n",
            "1.1946945390697847\n",
            "1.1776338834384126\n",
            "1.1605126419235234\n",
            "1.143298703553244\n",
            "1.1260655613613517\n",
            "1.1089495500895963\n",
            "1.0920968876402637\n",
            "1.075698231450847\n",
            "1.0599016277165794\n",
            "1.044873367191528\n",
            "1.0306795573398184\n"
          ]
        }
      ]
    },
    {
      "cell_type": "markdown",
      "source": [
        "# Optimization"
      ],
      "metadata": {
        "id": "En6pYE9HpxLt"
      }
    },
    {
      "cell_type": "markdown",
      "source": [
        "hyperparameter"
      ],
      "metadata": {
        "id": "NK-q0qWSyEVL"
      }
    },
    {
      "cell_type": "code",
      "source": [
        "learning_rate = 0.01\n",
        "beta1 = 0.9          # beta value for Momentum\n",
        "beta2 = 0.999         # beta value for RMS prop\n",
        "epsilon = 1e-8       # Small value to prevent division by 0"
      ],
      "metadata": {
        "id": "UUXT39QSyGhH"
      },
      "execution_count": null,
      "outputs": []
    },
    {
      "cell_type": "markdown",
      "source": [
        "Momentum"
      ],
      "metadata": {
        "id": "BW4PfvbYyZfz"
      }
    },
    {
      "cell_type": "code",
      "source": [
        "# parameters\n",
        "vW1, vb1 = np.zeros_like(W1), np.zeros_like(b1)\n",
        "vW2, vb2 = np.zeros_like(W2), np.zeros_like(b2)"
      ],
      "metadata": {
        "id": "ckUBh1pLyeWs"
      },
      "execution_count": null,
      "outputs": []
    },
    {
      "cell_type": "code",
      "source": [
        "vW1 = beta1 * vW1 + (1 - beta1) * dW1\n",
        "vb1 = beta1 * vb1 + (1 - beta1) * db1\n",
        "vW2 = beta1 * vW2 + (1 - beta1) * dW2\n",
        "vb2 = beta1 * vb2 + (1 - beta1) * db2"
      ],
      "metadata": {
        "id": "vMw8hB-Py3GX"
      },
      "execution_count": null,
      "outputs": []
    },
    {
      "cell_type": "code",
      "source": [
        "# parameters update for momentum\n",
        "W1 -= learning_rate * vW1\n",
        "b1 -= learning_rate * vb1\n",
        "W2 -= learning_rate * vW2\n",
        "b1 -= learning_rate * vb2"
      ],
      "metadata": {
        "id": "bTuHQ93hzZWd"
      },
      "execution_count": null,
      "outputs": []
    },
    {
      "cell_type": "markdown",
      "source": [
        "Gradient descent with momentum"
      ],
      "metadata": {
        "id": "S_g6EQHPzzEp"
      }
    },
    {
      "cell_type": "code",
      "source": [
        "#let's put it all together\n",
        "\n",
        "W1 = np.random.randn(10, n - 1)\n",
        "b1 = np.random.randn(10, 1)\n",
        "W2 = np.random.randn(10, 10)\n",
        "b2 = np.random.randn(10, 1)\n",
        "\n",
        "learing_rate = 0.1\n",
        "# parameters\n",
        "vW1, vB1 = np.zeros_like(W1), np.zeros_like(b1)\n",
        "vW2, vB2 = np.zeros_like(W2), np.zeros_like(b2)\n",
        "\n",
        "iteration = 30\n",
        "for i in range(iteration):\n",
        "  # forward prop\n",
        "  Z1 = np.dot(W1, X_train) + b1\n",
        "  A1 = np.maximum(Z1, 0)\n",
        "  Z2 = np.dot(W2, A1) + b2\n",
        "  A2 = np.exp(Z2) / sum(np.exp(Z2))\n",
        "\n",
        "  # loss\n",
        "  loss = np.sum(np.square(one_hot_label -  A2)) / m\n",
        "  print(loss)\n",
        "\n",
        "  # backprop\n",
        "  dZ2 = A2 - one_hot_label\n",
        "  dW2 = 1 / m * np.dot(dZ2, A1.T)\n",
        "  dB2 = 1 / m * np.sum(dZ2)\n",
        "  relu_deriv = Z1 > 0\n",
        "  dZ1 = np.dot(W2, dZ2) * relu_deriv\n",
        "  dW1 = 1 / m * np.dot(dZ1, X_train.T)\n",
        "  dB1 = 1 / m * np.sum(dZ1)\n",
        "\n",
        "  vW1 = beta1 * vW1 + (1 - beta1) * dW1\n",
        "  vb1 = beta1 * vb1 + (1 - beta1) * dB1\n",
        "  vW2 = beta1 * vW2 + (1 - beta1) * dW2\n",
        "  vb2 = beta1 * vb2 + (1 - beta1) * dB2\n",
        "\n",
        "  # parameters update for momentum\n",
        "  W1 = W1 - learning_rate * vW1\n",
        "  b1 = b1 - learning_rate * vb1\n",
        "  W2 = W2 - learning_rate * vW2\n",
        "  b2 = b2 - learning_rate * vb2"
      ],
      "metadata": {
        "colab": {
          "base_uri": "https://localhost:8080/"
        },
        "id": "V_duJywVz27f",
        "outputId": "5798ca31-5eb7-46c2-f6bd-69f1cf222e81"
      },
      "execution_count": null,
      "outputs": [
        {
          "output_type": "stream",
          "name": "stdout",
          "text": [
            "1.6249437070981676\n",
            "1.624455755321246\n",
            "1.6235581648621698\n",
            "1.622275105691062\n",
            "1.6206147901994699\n",
            "1.6185808634265917\n",
            "1.6161799517711557\n",
            "1.613425015525712\n",
            "1.6103525713628073\n",
            "1.6070227612615275\n",
            "1.6035121856638745\n",
            "1.5998554053148684\n",
            "1.596049259083847\n",
            "1.5921015397427252\n",
            "1.5880818646993309\n",
            "1.5840587977594767\n",
            "1.5800610141040323\n",
            "1.5760758551415208\n",
            "1.5720983177597052\n",
            "1.5681556839705164\n",
            "1.5642795907292804\n",
            "1.5605540503997934\n",
            "1.5570133340307069\n",
            "1.5536592926075135\n",
            "1.5504881857069779\n",
            "1.5475267701710098\n",
            "1.5447702569990371\n",
            "1.5422211678165563\n",
            "1.5398709438627107\n",
            "1.5377287011210015\n"
          ]
        }
      ]
    },
    {
      "cell_type": "markdown",
      "source": [
        "RMS Prop"
      ],
      "metadata": {
        "id": "FSReM2Df2zOf"
      }
    },
    {
      "cell_type": "code",
      "source": [
        "# parameters rms prop\n",
        "sW1, sb1 = np.zeros_like(W1), np.zeros_like(b1)\n",
        "sW2, sb2 = np.zeros_like(W2), np.zeros_like(b2)"
      ],
      "metadata": {
        "id": "C8BfKxxN24pY"
      },
      "execution_count": null,
      "outputs": []
    },
    {
      "cell_type": "code",
      "source": [
        "# formula for rms prop\n",
        "sW1 = beta2 * sW1 + (1 - beta2) * np.square(dW1)\n",
        "sb1 = beta2 * sb1 + (1 - beta2) * np.square(dB1)\n",
        "sW2 = beta2 * sW2 + (1 - beta2) * np.square(dW2)\n",
        "sb2 = beta2 * sb2 + (1 - beta2) * np.square(dB2)"
      ],
      "metadata": {
        "id": "CGGIbJtR3RV6"
      },
      "execution_count": null,
      "outputs": []
    },
    {
      "cell_type": "code",
      "source": [
        "# parameters update for rms prop\n",
        "\n",
        "W1 = W1 - learning_rate * dW1 / (np.sqrt(sW1) + epsilon)\n",
        "b1 = b1 - learning_rate * dB1 / (np.sqrt(sb1) + epsilon)\n",
        "W2 = W2 - learning_rate * dW2 / (np.sqrt(sW2) + epsilon)\n",
        "b2 = b2 - learning_rate * dB2 / (np.sqrt(sb2) + epsilon)"
      ],
      "metadata": {
        "id": "KR96816I39Jt"
      },
      "execution_count": null,
      "outputs": []
    },
    {
      "cell_type": "markdown",
      "source": [
        "gradient descent with rms prop"
      ],
      "metadata": {
        "id": "55jJsiH842X3"
      }
    },
    {
      "cell_type": "code",
      "source": [
        "#let's put it all together\n",
        "\n",
        "W1 = np.random.randn(10, n - 1)\n",
        "b1 = np.random.randn(10, 1)\n",
        "W2 = np.random.randn(10, 10)\n",
        "b2 = np.random.randn(10, 1)\n",
        "\n",
        "learing_rate = 0.1\n",
        "# parameters rms prop\n",
        "sW1, sb1 = np.zeros_like(W1), np.zeros_like(b1)\n",
        "sW2, sb2 = np.zeros_like(W2), np.zeros_like(b2)\n",
        "\n",
        "iteration = 30\n",
        "for i in range(iteration):\n",
        "  # forward prop\n",
        "  Z1 = np.dot(W1, X_train) + b1\n",
        "  A1 = np.maximum(Z1, 0)\n",
        "  Z2 = np.dot(W2, A1) + b2\n",
        "  A2 = np.exp(Z2) / sum(np.exp(Z2))\n",
        "\n",
        "  # loss\n",
        "  loss = np.sum(np.square(one_hot_label -  A2)) / m\n",
        "  print(loss)\n",
        "\n",
        "  # backprop\n",
        "  dZ2 = A2 - one_hot_label\n",
        "  dW2 = 1 / m * np.dot(dZ2, A1.T)\n",
        "  dB2 = 1 / m * np.sum(dZ2)\n",
        "  relu_deriv = Z1 > 0\n",
        "  dZ1 = np.dot(W2, dZ2) * relu_deriv\n",
        "  dW1 = 1 / m * np.dot(dZ1, X_train.T)\n",
        "  dB1 = 1 / m * np.sum(dZ1)\n",
        "\n",
        "  # formula for rms prop\n",
        "  sW1 = beta2 * sW1 + (1 - beta2) * np.square(dW1)\n",
        "  sb1 = beta2 * sb1 + (1 - beta2) * np.square(dB1)\n",
        "  sW2 = beta2 * sW2 + (1 - beta2) * np.square(dW2)\n",
        "  sb2 = beta2 * sb2 + (1 - beta2) * np.square(dB2)\n",
        "\n",
        "  # parameters update for rms prop\n",
        "\n",
        "  W1 = W1 - learning_rate * dW1 / (np.sqrt(sW1) + epsilon)\n",
        "  b1 = b1 - learning_rate * dB1 / (np.sqrt(sb1) + epsilon)\n",
        "  W2 = W2 - learning_rate * dW2 / (np.sqrt(sW2) + epsilon)\n",
        "  b2 = b2 - learning_rate * dB2 / (np.sqrt(sb2) + epsilon)"
      ],
      "metadata": {
        "colab": {
          "base_uri": "https://localhost:8080/"
        },
        "id": "zdx43JK747j8",
        "outputId": "e1b86a84-6c50-48d8-c1fc-4977226a7af5"
      },
      "execution_count": null,
      "outputs": [
        {
          "output_type": "stream",
          "name": "stdout",
          "text": [
            "1.7303557507222156\n",
            "1.769654407286932\n",
            "1.7303694275503325\n",
            "1.6023195845654734\n",
            "1.733144015498148\n",
            "1.5576480988351373\n",
            "1.6785249659711232\n",
            "1.5790128243511319\n",
            "1.7326970913829427\n",
            "1.5664783754187124\n",
            "1.4840891828139322\n",
            "1.3195651263111787\n",
            "1.3350243339359864\n",
            "1.187217366402409\n",
            "1.1541464771117906\n",
            "1.0128291753526255\n",
            "1.0551584403534924\n",
            "0.9859622585144238\n",
            "1.088641948871076\n",
            "0.9589980385185378\n",
            "1.1543223357364965\n",
            "0.87263353051983\n",
            "0.8521352872675015\n",
            "0.7798754511989375\n",
            "0.7967755041806012\n",
            "0.7793711844068165\n",
            "0.7436928295605723\n",
            "0.7346134544076686\n",
            "0.7382092376422855\n",
            "0.7495330717434602\n"
          ]
        }
      ]
    },
    {
      "cell_type": "markdown",
      "source": [
        "Adam"
      ],
      "metadata": {
        "id": "AR50kGLb5X_p"
      }
    },
    {
      "cell_type": "code",
      "source": [
        "# Initialize momentum and rms prop value\n",
        "\n",
        "# momentum params\n",
        "vW1, vb1 = np.zeros_like(W1), np.zeros_like(b1)\n",
        "vW2, vb2 = np.zeros_like(W2), np.zeros_like(b2)\n",
        "\n",
        "# rms prop\n",
        "sW1, sb1 = np.zeros_like(W1), np.zeros_like(b1)\n",
        "sW2, sb2 = np.zeros_like(W2), np.zeros_like(b2)\n",
        "\n",
        "t = 0"
      ],
      "metadata": {
        "id": "bjHvpCAn5cF_"
      },
      "execution_count": null,
      "outputs": []
    },
    {
      "cell_type": "code",
      "source": [
        "# formula for Adam\n",
        "t += 1\n",
        "\n",
        "# Momentum (first moment estimate)\n",
        "vW1 = beta1 * vW1 + (1 - beta1) * dW1\n",
        "vb1 = beta1 * vb1 + (1 - beta1) * dB1\n",
        "vW2 = beta1 * vW2 + (1 - beta1) * dW2\n",
        "vb2 = beta1 * vb2 + (1 - beta1) * dB2\n",
        "\n",
        "# rms prop (second moment estimate)\n",
        "sW1 = beta2 * sW1 + (1 - beta2) * np.square(dW1)\n",
        "sb1 = beta2 * sb1 + (1 - beta2) * np.square(dB1)\n",
        "sW2 = beta2 * sW2 + (1 - beta2) * np.square(dW2)\n",
        "sb2 = beta2 * sb2 + (1 - beta2) * np.square(dB2)\n",
        "\n",
        "# bias correction\n",
        "vW1_corrected = vW1 / (1 - beta1**t)\n",
        "vb1_corrected = vb1 / (1 - beta1**t)\n",
        "vW2_corrected = vW2 / (1 - beta1**t)\n",
        "vb2_corrected = vb2 / (1 - beta1**t)\n",
        "\n",
        "sW1_corrected = sW1 / (1 - beta2**t)\n",
        "sb1_corrected = sb1 / (1 - beta2**t)\n",
        "sW2_corrected = sW2 / (1 - beta2**t)\n",
        "sb2_corrected = sb2 / (1 - beta2**t)"
      ],
      "metadata": {
        "id": "yjY6w26P6Ie_"
      },
      "execution_count": null,
      "outputs": []
    },
    {
      "cell_type": "code",
      "source": [
        "# parameters update for Adam\n",
        "\n",
        "W1 = W1 - learning_rate * vW1_corrected / (np.sqrt(sW1_corrected) + epsilon)\n",
        "b1 = b1 - learning_rate * vb1_corrected / (np.sqrt(sb1_corrected) + epsilon)\n",
        "W2 = W2 - learning_rate * vW2_corrected / (np.sqrt(sW2_corrected) + epsilon)\n",
        "b2 = b2 - learning_rate * vb2_corrected / (np.sqrt(sb2_corrected) + epsilon)"
      ],
      "metadata": {
        "id": "qMDmdahT8jof"
      },
      "execution_count": null,
      "outputs": []
    },
    {
      "cell_type": "markdown",
      "source": [
        "Gradient descent with Adam Optimization"
      ],
      "metadata": {
        "id": "oSaKg-3K9R0s"
      }
    },
    {
      "cell_type": "code",
      "source": [
        "#let's put it all together\n",
        "\n",
        "W1 = np.random.randn(10, n - 1)\n",
        "b1 = np.random.randn(10, 1)\n",
        "W2 = np.random.randn(10, 10)\n",
        "b2 = np.random.randn(10, 1)\n",
        "\n",
        "learing_rate = 0.1\n",
        "# Initialize momentum and rms prop value\n",
        "\n",
        "# momentum params\n",
        "vW1, vb1 = np.zeros_like(W1), np.zeros_like(b1)\n",
        "vW2, vb2 = np.zeros_like(W2), np.zeros_like(b2)\n",
        "\n",
        "# rms prop\n",
        "sW1, sb1 = np.zeros_like(W1), np.zeros_like(b1)\n",
        "sW2, sb2 = np.zeros_like(W2), np.zeros_like(b2)\n",
        "\n",
        "t = 0\n",
        "\n",
        "iteration = 30\n",
        "for i in range(iteration):\n",
        "  # forward prop\n",
        "  Z1 = np.dot(W1, X_train) + b1\n",
        "  A1 = np.maximum(Z1, 0)\n",
        "  Z2 = np.dot(W2, A1) + b2\n",
        "  A2 = np.exp(Z2) / sum(np.exp(Z2))\n",
        "\n",
        "  # loss\n",
        "  loss = np.sum(np.square(one_hot_label -  A2)) / m\n",
        "  print(loss)\n",
        "\n",
        "  # backprop\n",
        "  dZ2 = A2 - one_hot_label\n",
        "  dW2 = 1 / m * np.dot(dZ2, A1.T)\n",
        "  dB2 = 1 / m * np.sum(dZ2)\n",
        "  relu_deriv = Z1 > 0\n",
        "  dZ1 = np.dot(W2, dZ2) * relu_deriv\n",
        "  dW1 = 1 / m * np.dot(dZ1, X_train.T)\n",
        "  dB1 = 1 / m * np.sum(dZ1)\n",
        "\n",
        "  # formula for Adam\n",
        "  t += 1\n",
        "\n",
        "  # Momentum (first moment estimate)\n",
        "  vW1 = beta1 * vW1 + (1 - beta1) * dW1\n",
        "  vb1 = beta1 * vb1 + (1 - beta1) * dB1\n",
        "  vW2 = beta1 * vW2 + (1 - beta1) * dW2\n",
        "  vb2 = beta1 * vb2 + (1 - beta1) * dB2\n",
        "\n",
        "  # rms prop (second moment estimate)\n",
        "  sW1 = beta2 * sW1 + (1 - beta2) * np.square(dW1)\n",
        "  sb1 = beta2 * sb1 + (1 - beta2) * np.square(dB1)\n",
        "  sW2 = beta2 * sW2 + (1 - beta2) * np.square(dW2)\n",
        "  sb2 = beta2 * sb2 + (1 - beta2) * np.square(dB2)\n",
        "\n",
        "  # bias correction\n",
        "  vW1_corrected = vW1 / (1 - beta1**t)\n",
        "  vb1_corrected = vb1 / (1 - beta1**t)\n",
        "  vW2_corrected = vW2 / (1 - beta1**t)\n",
        "  vb2_corrected = vb2 / (1 - beta1**t)\n",
        "\n",
        "  sW1_corrected = sW1 / (1 - beta2**t)\n",
        "  sb1_corrected = sb1 / (1 - beta2**t)\n",
        "  sW2_corrected = sW2 / (1 - beta2**t)\n",
        "  sb2_corrected = sb2 / (1 - beta2**t)\n",
        "\n",
        "  # parameters update for Adam\n",
        "\n",
        "  W1 = W1 - learning_rate * vW1_corrected / (np.sqrt(sW1_corrected) + epsilon)\n",
        "  b1 = b1 - learning_rate * vb1_corrected / (np.sqrt(sb1_corrected) + epsilon)\n",
        "  W2 = W2 - learning_rate * vW2_corrected / (np.sqrt(sW2_corrected) + epsilon)\n",
        "  b2 = b2 - learning_rate * vb2_corrected / (np.sqrt(sb2_corrected) + epsilon)"
      ],
      "metadata": {
        "colab": {
          "base_uri": "https://localhost:8080/"
        },
        "id": "NZ_mc_nG9WZ8",
        "outputId": "85b31608-ff91-492f-b242-eae6cc75aa9b"
      },
      "execution_count": null,
      "outputs": [
        {
          "output_type": "stream",
          "name": "stdout",
          "text": [
            "1.7468978743821215\n",
            "1.7422284894338707\n",
            "1.7381851308251877\n",
            "1.7347369223842228\n",
            "1.7303222777738028\n",
            "1.7253352866651297\n",
            "1.71984522822497\n",
            "1.7141878026961368\n",
            "1.7077683607690815\n",
            "1.7000909867846283\n",
            "1.6922263316293988\n",
            "1.687113636523261\n",
            "1.6809811756151485\n",
            "1.6790433664175264\n",
            "1.6798426438594858\n",
            "1.6816267815805024\n",
            "1.684035707072324\n",
            "1.6870771799685134\n",
            "1.6914597180846935\n",
            "1.696620519218906\n",
            "1.7019010886895447\n",
            "1.7068890512662225\n",
            "1.7117567659688733\n",
            "1.716866603270737\n",
            "1.7219939425355961\n",
            "1.726555674037062\n",
            "1.730924209646928\n",
            "1.734356301994775\n",
            "1.7371781916425348\n",
            "1.739361200055825\n"
          ]
        }
      ]
    }
  ]
}